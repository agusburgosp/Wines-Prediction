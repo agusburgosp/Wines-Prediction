{
 "cells": [
  {
   "cell_type": "markdown",
   "metadata": {},
   "source": [
    "# **Trabajo Practico Numero 2**"
   ]
  },
  {
   "cell_type": "markdown",
   "metadata": {},
   "source": [
    "*<strong>Alumnos:</strong> Guido Pauletti y Maria Agustina Burgos Pesqueira.*"
   ]
  },
  {
   "cell_type": "code",
   "execution_count": 1,
   "metadata": {},
   "outputs": [],
   "source": [
    "import numpy as np\n",
    "import pandas as pd"
   ]
  },
  {
   "cell_type": "markdown",
   "metadata": {},
   "source": [
    "**Usamos pandas para leer el archivo csv y echarle un vistazo a la forma de los datos**"
   ]
  },
  {
   "cell_type": "code",
   "execution_count": 2,
   "metadata": {},
   "outputs": [
    {
     "data": {
      "text/html": [
       "<div>\n",
       "<style scoped>\n",
       "    .dataframe tbody tr th:only-of-type {\n",
       "        vertical-align: middle;\n",
       "    }\n",
       "\n",
       "    .dataframe tbody tr th {\n",
       "        vertical-align: top;\n",
       "    }\n",
       "\n",
       "    .dataframe thead th {\n",
       "        text-align: right;\n",
       "    }\n",
       "</style>\n",
       "<table border=\"1\" class=\"dataframe\">\n",
       "  <thead>\n",
       "    <tr style=\"text-align: right;\">\n",
       "      <th></th>\n",
       "      <th>Alcohol</th>\n",
       "      <th>Malic_Acid</th>\n",
       "      <th>Ash</th>\n",
       "      <th>Ash_Alcanity</th>\n",
       "      <th>Magnesium</th>\n",
       "      <th>Total_Phenols</th>\n",
       "      <th>Flavanoids</th>\n",
       "      <th>Nonflavanoid_Phenols</th>\n",
       "      <th>Proanthocyanins</th>\n",
       "      <th>Color_Intensity</th>\n",
       "      <th>Hue</th>\n",
       "      <th>OD280</th>\n",
       "      <th>Proline</th>\n",
       "      <th>Customer_Segment</th>\n",
       "    </tr>\n",
       "  </thead>\n",
       "  <tbody>\n",
       "    <tr>\n",
       "      <th>0</th>\n",
       "      <td>14.23</td>\n",
       "      <td>1.71</td>\n",
       "      <td>2.43</td>\n",
       "      <td>15.6</td>\n",
       "      <td>127</td>\n",
       "      <td>2.80</td>\n",
       "      <td>3.06</td>\n",
       "      <td>0.28</td>\n",
       "      <td>2.29</td>\n",
       "      <td>5.64</td>\n",
       "      <td>1.04</td>\n",
       "      <td>3.92</td>\n",
       "      <td>1065</td>\n",
       "      <td>1</td>\n",
       "    </tr>\n",
       "    <tr>\n",
       "      <th>1</th>\n",
       "      <td>13.20</td>\n",
       "      <td>1.78</td>\n",
       "      <td>2.14</td>\n",
       "      <td>11.2</td>\n",
       "      <td>100</td>\n",
       "      <td>2.65</td>\n",
       "      <td>2.76</td>\n",
       "      <td>0.26</td>\n",
       "      <td>1.28</td>\n",
       "      <td>4.38</td>\n",
       "      <td>1.05</td>\n",
       "      <td>3.40</td>\n",
       "      <td>1050</td>\n",
       "      <td>1</td>\n",
       "    </tr>\n",
       "    <tr>\n",
       "      <th>2</th>\n",
       "      <td>13.16</td>\n",
       "      <td>2.36</td>\n",
       "      <td>2.67</td>\n",
       "      <td>18.6</td>\n",
       "      <td>101</td>\n",
       "      <td>2.80</td>\n",
       "      <td>3.24</td>\n",
       "      <td>0.30</td>\n",
       "      <td>2.81</td>\n",
       "      <td>5.68</td>\n",
       "      <td>1.03</td>\n",
       "      <td>3.17</td>\n",
       "      <td>1185</td>\n",
       "      <td>1</td>\n",
       "    </tr>\n",
       "    <tr>\n",
       "      <th>3</th>\n",
       "      <td>14.37</td>\n",
       "      <td>1.95</td>\n",
       "      <td>2.50</td>\n",
       "      <td>16.8</td>\n",
       "      <td>113</td>\n",
       "      <td>3.85</td>\n",
       "      <td>3.49</td>\n",
       "      <td>0.24</td>\n",
       "      <td>2.18</td>\n",
       "      <td>7.80</td>\n",
       "      <td>0.86</td>\n",
       "      <td>3.45</td>\n",
       "      <td>1480</td>\n",
       "      <td>1</td>\n",
       "    </tr>\n",
       "    <tr>\n",
       "      <th>4</th>\n",
       "      <td>13.24</td>\n",
       "      <td>2.59</td>\n",
       "      <td>2.87</td>\n",
       "      <td>21.0</td>\n",
       "      <td>118</td>\n",
       "      <td>2.80</td>\n",
       "      <td>2.69</td>\n",
       "      <td>0.39</td>\n",
       "      <td>1.82</td>\n",
       "      <td>4.32</td>\n",
       "      <td>1.04</td>\n",
       "      <td>2.93</td>\n",
       "      <td>735</td>\n",
       "      <td>1</td>\n",
       "    </tr>\n",
       "  </tbody>\n",
       "</table>\n",
       "</div>"
      ],
      "text/plain": [
       "   Alcohol  Malic_Acid   Ash  Ash_Alcanity  Magnesium  Total_Phenols  \\\n",
       "0    14.23        1.71  2.43          15.6        127           2.80   \n",
       "1    13.20        1.78  2.14          11.2        100           2.65   \n",
       "2    13.16        2.36  2.67          18.6        101           2.80   \n",
       "3    14.37        1.95  2.50          16.8        113           3.85   \n",
       "4    13.24        2.59  2.87          21.0        118           2.80   \n",
       "\n",
       "   Flavanoids  Nonflavanoid_Phenols  Proanthocyanins  Color_Intensity   Hue  \\\n",
       "0        3.06                  0.28             2.29             5.64  1.04   \n",
       "1        2.76                  0.26             1.28             4.38  1.05   \n",
       "2        3.24                  0.30             2.81             5.68  1.03   \n",
       "3        3.49                  0.24             2.18             7.80  0.86   \n",
       "4        2.69                  0.39             1.82             4.32  1.04   \n",
       "\n",
       "   OD280  Proline  Customer_Segment  \n",
       "0   3.92     1065                 1  \n",
       "1   3.40     1050                 1  \n",
       "2   3.17     1185                 1  \n",
       "3   3.45     1480                 1  \n",
       "4   2.93      735                 1  "
      ]
     },
     "execution_count": 2,
     "metadata": {},
     "output_type": "execute_result"
    }
   ],
   "source": [
    "wines = pd.read_csv('wine.csv')\n",
    "wines.head()"
   ]
  },
  {
   "cell_type": "markdown",
   "metadata": {},
   "source": [
    "**Notamos algo importante:**<br>\n",
    "    Las escalas de los diferentes atributos difieren,<br>\n",
    "    algunas estan en los cientos, y otras varian entre 0 y 1."
   ]
  },
  {
   "cell_type": "code",
   "execution_count": 3,
   "metadata": {},
   "outputs": [
    {
     "name": "stdout",
     "output_type": "stream",
     "text": [
      "<class 'pandas.core.frame.DataFrame'>\n",
      "RangeIndex: 178 entries, 0 to 177\n",
      "Data columns (total 14 columns):\n",
      " #   Column                Non-Null Count  Dtype  \n",
      "---  ------                --------------  -----  \n",
      " 0   Alcohol               178 non-null    float64\n",
      " 1   Malic_Acid            178 non-null    float64\n",
      " 2   Ash                   178 non-null    float64\n",
      " 3   Ash_Alcanity          178 non-null    float64\n",
      " 4   Magnesium             178 non-null    int64  \n",
      " 5   Total_Phenols         178 non-null    float64\n",
      " 6   Flavanoids            178 non-null    float64\n",
      " 7   Nonflavanoid_Phenols  178 non-null    float64\n",
      " 8   Proanthocyanins       178 non-null    float64\n",
      " 9   Color_Intensity       178 non-null    float64\n",
      " 10  Hue                   178 non-null    float64\n",
      " 11  OD280                 178 non-null    float64\n",
      " 12  Proline               178 non-null    int64  \n",
      " 13  Customer_Segment      178 non-null    int64  \n",
      "dtypes: float64(11), int64(3)\n",
      "memory usage: 19.6 KB\n"
     ]
    }
   ],
   "source": [
    "wines.info()"
   ]
  },
  {
   "cell_type": "markdown",
   "metadata": {},
   "source": [
    "<h3>Separo las variables independientes de la dependiente con X e Y</h3>"
   ]
  },
  {
   "cell_type": "code",
   "execution_count": 4,
   "metadata": {},
   "outputs": [],
   "source": [
    "# guardamos los datos en matrices de numpy\n",
    "Y = np.array(wines['Customer_Segment'])\n",
    "X = np.array(wines.drop('Customer_Segment', axis=1))"
   ]
  },
  {
   "cell_type": "markdown",
   "metadata": {},
   "source": [
    "**Corroboramos que las matrices sean de la forma correcta**"
   ]
  },
  {
   "cell_type": "code",
   "execution_count": 5,
   "metadata": {},
   "outputs": [
    {
     "name": "stdout",
     "output_type": "stream",
     "text": [
      "X: 178 filas; 13 columnas\n",
      "Y: 178 filas; 1 columna\n"
     ]
    }
   ],
   "source": [
    "print(f'X: {X.shape[0]} filas; {X.shape[1]} columnas\\nY: {Y.shape[0]} filas; 1 columna')"
   ]
  },
  {
   "cell_type": "markdown",
   "metadata": {},
   "source": [
    "<h3>Creamos una funcion para normalizar los datos</h3>"
   ]
  },
  {
   "cell_type": "markdown",
   "metadata": {},
   "source": [
    "**Primero** definimos una funcion para obtener la desviacion standard muestral de cada variable<br>\n",
    " independiente, se pasan como parametros un vector represetando los valores de las variables<br>\n",
    "  para cada instancia, y tambien la media, necesaria para calcular el radicando."
   ]
  },
  {
   "cell_type": "markdown",
   "metadata": {},
   "source": [
    "Se hara uso de una funcion auxiliar $desviacion\\_standard\\_muestral$ para trabajar con\n",
    "cada columna de la matriz. <br>\n",
    "* **Parametro**: vector, lista, o array de numpy.\n",
    "* **Devuelve**: la desviacion standard muestral $(s)$ calculada con los elementos del parametro."
   ]
  },
  {
   "cell_type": "markdown",
   "metadata": {},
   "source": [
    "Siendo el vector de la forma: $[X_1,X_2,...,X_n]$<br>\n",
    "Para calcular el resultado se usan las siguientes formulas:<br><br>\n",
    "$media = (\\sum_{i=1}^{n} X_i)/n$<br><br>\n",
    "$s = \\sqrt{\\frac{1}{n-1} \\sum_{i=1}^{n} (X_i - media)^{2}}$"
   ]
  },
  {
   "cell_type": "code",
   "execution_count": 6,
   "metadata": {},
   "outputs": [],
   "source": [
    "def desviacion_standard(vector):\n",
    "\n",
    "    # calculamos la media\n",
    "    media = sum(vector) / len(vector)\n",
    "\n",
    "    # inicializamos sumatoria, que llevara la suma de los cuadrados de las diferencias entre las instancias y la media\n",
    "    sumatoria = 0\n",
    "    for i in range(len(vector)):\n",
    "        # recorremos las instancias para sumar las diferencias\n",
    "        sumatoria += (vector[i] - media)**2\n",
    "\n",
    "    # aplicamos la formula para obtener la desviacion standard\n",
    "    s = np.sqrt(sumatoria / (len(vector) - 1))\n",
    "    return (s, media)"
   ]
  },
  {
   "cell_type": "markdown",
   "metadata": {},
   "source": [
    "**Luego** definimos la funcion principal, <br>\n",
    "toma una matriz como parametro y la devuelve con sus valores normalizados"
   ]
  },
  {
   "cell_type": "code",
   "execution_count": 7,
   "metadata": {},
   "outputs": [],
   "source": [
    "def normalizar(matriz):\n",
    "    # obtenemos la forma de la matriz\n",
    "    filas, columnas = matriz.shape\n",
    "    \n",
    "    # recorremos las columnas (los atributos de cada vino)\n",
    "    for i in range(columnas):\n",
    "        columna_actual = matriz[:,i]\n",
    "        \n",
    "        # calculamos la desviacion standard del atributo actual\n",
    "        s, media = desviacion_standard(columna_actual)\n",
    "\n",
    "        # recorremos los valores del atributo y los vamos normalizando\n",
    "        for f in range(filas):\n",
    "            matriz[f,i] = (matriz[f,i] - media) / s\n",
    "\n",
    "    # devolvemos la matriz normalizada\n",
    "    return matriz"
   ]
  },
  {
   "cell_type": "code",
   "execution_count": 8,
   "metadata": {},
   "outputs": [],
   "source": [
    "X = normalizar(X)"
   ]
  },
  {
   "cell_type": "markdown",
   "metadata": {},
   "source": [
    "Ahora tengo la matriz con los valores normalizados, esto es importante<br>\n",
    "como paso previo a bucar covarianzas entre los atributos de los vinos. <br><br>\n",
    "Como habiamos visto en el dataframe, hay columnas con escalas mayores a<br>\n",
    "otras, lo que iba a ser una complicación al momento de decidir si una<br>\n",
    "relacion entre dos atributos es fuerte o debil."
   ]
  },
  {
   "cell_type": "markdown",
   "metadata": {},
   "source": [
    "<h3>Obtenemos la matriz de covarianza</h3>"
   ]
  },
  {
   "cell_type": "markdown",
   "metadata": {},
   "source": [
    "Para entender mejor de que se trata, supongamos que solo tenemos<br>\n",
    "tres atributos de los vinos: $x$, $y$ y $z$. La matriz de covarianza tendrá la forma:<br><br>\n",
    "$\n",
    "\\begin{pmatrix}\n",
    "var_{x} & con_{xy} & cov_{xz}\\\\\n",
    "cov_{xy} & var_{y} & cov_{yz}\\\\\n",
    "cov_{xz} & con_{zy} & var_{z}\n",
    "\\end{pmatrix}\n",
    "$"
   ]
  },
  {
   "cell_type": "markdown",
   "metadata": {},
   "source": [
    "Por lo que la matriz de covarianza es una matriz cuadrada y simetrica.<br>\n",
    "Teniendo en la diagonal las varianzas de cada atributo."
   ]
  },
  {
   "cell_type": "code",
   "execution_count": 9,
   "metadata": {},
   "outputs": [],
   "source": [
    "# creamos una funcion que dada una matriz, devuelve su matriz de covarianza.\n",
    "\n",
    "def covarianza(matriz):\n",
    "    filas, columnas = matriz.shape\n",
    "\n",
    "    # creamos una matriz de 0´s con las dimensiones necesarias\n",
    "    c = np.zeros((columnas,columnas))\n",
    "\n",
    "    # recorremos las columnas de la matriz 2 veces\n",
    "    for i in range (columnas):\n",
    "        for j in range (columnas):\n",
    "            columna_x = matriz[:,i]\n",
    "            columna_y = matriz[:,j]\n",
    "            # calculamos las medias\n",
    "            media_x = sum(columna_x) / filas\n",
    "            media_y = sum(columna_y) / filas\n",
    "            # le restamos a cada columna la media\n",
    "            columna_x = columna_x - media_x\n",
    "            columna_y = columna_y - media_y\n",
    "            # definimos el valor de cada elemento de la matriz\n",
    "            c[i,j] = sum(columna_x * columna_y) / filas\n",
    "    return c"
   ]
  },
  {
   "cell_type": "code",
   "execution_count": 10,
   "metadata": {},
   "outputs": [],
   "source": [
    "X = covarianza(X)"
   ]
  },
  {
   "cell_type": "code",
   "execution_count": 14,
   "metadata": {},
   "outputs": [
    {
     "data": {
      "text/plain": [
       "(13, 13)"
      ]
     },
     "execution_count": 14,
     "metadata": {},
     "output_type": "execute_result"
    }
   ],
   "source": [
    "X.shape"
   ]
  },
  {
   "cell_type": "markdown",
   "metadata": {},
   "source": [
    "<h3>Aplicamos el metodo de la potenica</h3>\n",
    "Y encontramos el maximo autovector con su autovalor"
   ]
  },
  {
   "cell_type": "code",
   "execution_count": 11,
   "metadata": {},
   "outputs": [],
   "source": [
    "def n_autovectores(A):\n",
    "\n",
    "    # genero un vector random para aplicar el algoritmo de la potencia\n",
    "    v = np.random.rand(A.shape[0])\n",
    "\n",
    "    # itero 100 veces (arbitrario)\n",
    "    for i in range(100):\n",
    "        Av = A @ v\n",
    "        v = Av / np.linalg.norm(Av, 2)\n",
    "\n",
    "    autovector = v\n",
    "    autovalor = np.linalg.norm(A @ v, 2)\n",
    "\n",
    "    return(autovector, autovalor)\n"
   ]
  },
  {
   "cell_type": "code",
   "execution_count": 12,
   "metadata": {},
   "outputs": [
    {
     "name": "stdout",
     "output_type": "stream",
     "text": [
      "autovalor maximo: [ 0.1443294  -0.24518758 -0.00205106 -0.23932041  0.14199204  0.39466085\n",
      "  0.4229343  -0.2985331   0.31342949 -0.0886167   0.29671456  0.37616741\n",
      "  0.28675223]\n",
      "autovalor: 4.679412892018567\n"
     ]
    }
   ],
   "source": [
    "avector, avalor = n_autovectores(X)\n",
    "print(f\"autovalor maximo: {avector}\\nautovalor: {avalor}\")"
   ]
  }
 ],
 "metadata": {
  "kernelspec": {
   "display_name": "venv",
   "language": "python",
   "name": "python3"
  },
  "language_info": {
   "codemirror_mode": {
    "name": "ipython",
    "version": 3
   },
   "file_extension": ".py",
   "mimetype": "text/x-python",
   "name": "python",
   "nbconvert_exporter": "python",
   "pygments_lexer": "ipython3",
   "version": "3.11.0"
  }
 },
 "nbformat": 4,
 "nbformat_minor": 2
}
