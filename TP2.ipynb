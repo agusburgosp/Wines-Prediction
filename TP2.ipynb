{
 "cells": [
  {
   "cell_type": "markdown",
   "metadata": {},
   "source": [
    "# **Trabajo Practico Numero 2**"
   ]
  },
  {
   "cell_type": "markdown",
   "metadata": {},
   "source": [
    "*<strong>Alumnos:</strong> Guido Pauletti y Maria Agustina Burgos Pesqueira.*"
   ]
  },
  {
   "cell_type": "code",
   "execution_count": 1,
   "metadata": {},
   "outputs": [],
   "source": [
    "import numpy as np\n",
    "import pandas as pd"
   ]
  },
  {
   "cell_type": "markdown",
   "metadata": {},
   "source": [
    "**Usamos pandas para leer el archivo csv y echarle un vistazo a la forma de los datos**"
   ]
  },
  {
   "cell_type": "code",
   "execution_count": 2,
   "metadata": {},
   "outputs": [
    {
     "data": {
      "text/html": [
       "<div>\n",
       "<style scoped>\n",
       "    .dataframe tbody tr th:only-of-type {\n",
       "        vertical-align: middle;\n",
       "    }\n",
       "\n",
       "    .dataframe tbody tr th {\n",
       "        vertical-align: top;\n",
       "    }\n",
       "\n",
       "    .dataframe thead th {\n",
       "        text-align: right;\n",
       "    }\n",
       "</style>\n",
       "<table border=\"1\" class=\"dataframe\">\n",
       "  <thead>\n",
       "    <tr style=\"text-align: right;\">\n",
       "      <th></th>\n",
       "      <th>Alcohol</th>\n",
       "      <th>Malic_Acid</th>\n",
       "      <th>Ash</th>\n",
       "      <th>Ash_Alcanity</th>\n",
       "      <th>Magnesium</th>\n",
       "      <th>Total_Phenols</th>\n",
       "      <th>Flavanoids</th>\n",
       "      <th>Nonflavanoid_Phenols</th>\n",
       "      <th>Proanthocyanins</th>\n",
       "      <th>Color_Intensity</th>\n",
       "      <th>Hue</th>\n",
       "      <th>OD280</th>\n",
       "      <th>Proline</th>\n",
       "      <th>Customer_Segment</th>\n",
       "    </tr>\n",
       "  </thead>\n",
       "  <tbody>\n",
       "    <tr>\n",
       "      <th>0</th>\n",
       "      <td>14.23</td>\n",
       "      <td>1.71</td>\n",
       "      <td>2.43</td>\n",
       "      <td>15.6</td>\n",
       "      <td>127</td>\n",
       "      <td>2.80</td>\n",
       "      <td>3.06</td>\n",
       "      <td>0.28</td>\n",
       "      <td>2.29</td>\n",
       "      <td>5.64</td>\n",
       "      <td>1.04</td>\n",
       "      <td>3.92</td>\n",
       "      <td>1065</td>\n",
       "      <td>1</td>\n",
       "    </tr>\n",
       "    <tr>\n",
       "      <th>1</th>\n",
       "      <td>13.20</td>\n",
       "      <td>1.78</td>\n",
       "      <td>2.14</td>\n",
       "      <td>11.2</td>\n",
       "      <td>100</td>\n",
       "      <td>2.65</td>\n",
       "      <td>2.76</td>\n",
       "      <td>0.26</td>\n",
       "      <td>1.28</td>\n",
       "      <td>4.38</td>\n",
       "      <td>1.05</td>\n",
       "      <td>3.40</td>\n",
       "      <td>1050</td>\n",
       "      <td>1</td>\n",
       "    </tr>\n",
       "    <tr>\n",
       "      <th>2</th>\n",
       "      <td>13.16</td>\n",
       "      <td>2.36</td>\n",
       "      <td>2.67</td>\n",
       "      <td>18.6</td>\n",
       "      <td>101</td>\n",
       "      <td>2.80</td>\n",
       "      <td>3.24</td>\n",
       "      <td>0.30</td>\n",
       "      <td>2.81</td>\n",
       "      <td>5.68</td>\n",
       "      <td>1.03</td>\n",
       "      <td>3.17</td>\n",
       "      <td>1185</td>\n",
       "      <td>1</td>\n",
       "    </tr>\n",
       "    <tr>\n",
       "      <th>3</th>\n",
       "      <td>14.37</td>\n",
       "      <td>1.95</td>\n",
       "      <td>2.50</td>\n",
       "      <td>16.8</td>\n",
       "      <td>113</td>\n",
       "      <td>3.85</td>\n",
       "      <td>3.49</td>\n",
       "      <td>0.24</td>\n",
       "      <td>2.18</td>\n",
       "      <td>7.80</td>\n",
       "      <td>0.86</td>\n",
       "      <td>3.45</td>\n",
       "      <td>1480</td>\n",
       "      <td>1</td>\n",
       "    </tr>\n",
       "    <tr>\n",
       "      <th>4</th>\n",
       "      <td>13.24</td>\n",
       "      <td>2.59</td>\n",
       "      <td>2.87</td>\n",
       "      <td>21.0</td>\n",
       "      <td>118</td>\n",
       "      <td>2.80</td>\n",
       "      <td>2.69</td>\n",
       "      <td>0.39</td>\n",
       "      <td>1.82</td>\n",
       "      <td>4.32</td>\n",
       "      <td>1.04</td>\n",
       "      <td>2.93</td>\n",
       "      <td>735</td>\n",
       "      <td>1</td>\n",
       "    </tr>\n",
       "  </tbody>\n",
       "</table>\n",
       "</div>"
      ],
      "text/plain": [
       "   Alcohol  Malic_Acid   Ash  Ash_Alcanity  Magnesium  Total_Phenols  \\\n",
       "0    14.23        1.71  2.43          15.6        127           2.80   \n",
       "1    13.20        1.78  2.14          11.2        100           2.65   \n",
       "2    13.16        2.36  2.67          18.6        101           2.80   \n",
       "3    14.37        1.95  2.50          16.8        113           3.85   \n",
       "4    13.24        2.59  2.87          21.0        118           2.80   \n",
       "\n",
       "   Flavanoids  Nonflavanoid_Phenols  Proanthocyanins  Color_Intensity   Hue  \\\n",
       "0        3.06                  0.28             2.29             5.64  1.04   \n",
       "1        2.76                  0.26             1.28             4.38  1.05   \n",
       "2        3.24                  0.30             2.81             5.68  1.03   \n",
       "3        3.49                  0.24             2.18             7.80  0.86   \n",
       "4        2.69                  0.39             1.82             4.32  1.04   \n",
       "\n",
       "   OD280  Proline  Customer_Segment  \n",
       "0   3.92     1065                 1  \n",
       "1   3.40     1050                 1  \n",
       "2   3.17     1185                 1  \n",
       "3   3.45     1480                 1  \n",
       "4   2.93      735                 1  "
      ]
     },
     "execution_count": 2,
     "metadata": {},
     "output_type": "execute_result"
    }
   ],
   "source": [
    "wines = pd.read_csv('wine.csv')\n",
    "wines.head()"
   ]
  },
  {
   "cell_type": "code",
   "execution_count": 3,
   "metadata": {},
   "outputs": [
    {
     "name": "stdout",
     "output_type": "stream",
     "text": [
      "<class 'pandas.core.frame.DataFrame'>\n",
      "RangeIndex: 178 entries, 0 to 177\n",
      "Data columns (total 14 columns):\n",
      " #   Column                Non-Null Count  Dtype  \n",
      "---  ------                --------------  -----  \n",
      " 0   Alcohol               178 non-null    float64\n",
      " 1   Malic_Acid            178 non-null    float64\n",
      " 2   Ash                   178 non-null    float64\n",
      " 3   Ash_Alcanity          178 non-null    float64\n",
      " 4   Magnesium             178 non-null    int64  \n",
      " 5   Total_Phenols         178 non-null    float64\n",
      " 6   Flavanoids            178 non-null    float64\n",
      " 7   Nonflavanoid_Phenols  178 non-null    float64\n",
      " 8   Proanthocyanins       178 non-null    float64\n",
      " 9   Color_Intensity       178 non-null    float64\n",
      " 10  Hue                   178 non-null    float64\n",
      " 11  OD280                 178 non-null    float64\n",
      " 12  Proline               178 non-null    int64  \n",
      " 13  Customer_Segment      178 non-null    int64  \n",
      "dtypes: float64(11), int64(3)\n",
      "memory usage: 19.6 KB\n"
     ]
    }
   ],
   "source": [
    "wines.info()"
   ]
  },
  {
   "cell_type": "markdown",
   "metadata": {},
   "source": [
    "<h3>Separo las variables independientes de la dependiente con X e Y</h3>"
   ]
  },
  {
   "cell_type": "code",
   "execution_count": 4,
   "metadata": {},
   "outputs": [],
   "source": [
    "# guardamos los datos en matrices de numpy\n",
    "Y = np.array(wines['Customer_Segment'])\n",
    "X = np.array(wines.drop('Customer_Segment', axis=1))"
   ]
  },
  {
   "cell_type": "markdown",
   "metadata": {},
   "source": [
    "**Corroboramos que las matrices sean de la forma correcta**"
   ]
  },
  {
   "cell_type": "code",
   "execution_count": 5,
   "metadata": {},
   "outputs": [
    {
     "name": "stdout",
     "output_type": "stream",
     "text": [
      "X: 178 filas; 13 columnas\n",
      "Y: 178 filas; 1 columna\n"
     ]
    }
   ],
   "source": [
    "print(f'X: {X.shape[0]} filas; {X.shape[1]} columnas\\nY: {Y.shape[0]} filas; 1 columna')"
   ]
  },
  {
   "cell_type": "markdown",
   "metadata": {},
   "source": [
    "<h3>Creamos una funcion para normalizar los datos</h3>"
   ]
  },
  {
   "cell_type": "markdown",
   "metadata": {},
   "source": [
    "**Primero** definimos una funcion para obtener la desviacion standard de cada variable independiente,<br>\n",
    "se pasan como parametros un vector represetando los valores de las variables para cada instancia, <br>\n",
    "y tambien la media, necesaria para calcular el radicando."
   ]
  },
  {
   "cell_type": "code",
   "execution_count": 6,
   "metadata": {},
   "outputs": [],
   "source": [
    "def desviacion_standard(vector, media):\n",
    "\n",
    "    # inicializamos sumatoria, que llevara la suma de los cuadrados de las diferencias entre las instancias y la media\n",
    "    sumatoria = 0\n",
    "    for i in range(len(vector)):\n",
    "        # recorremos las instancias para sumar las diferencias\n",
    "        sumatoria += (vector[i] - media)**2\n",
    "\n",
    "    # aplicamos la formula para obtener la desviacion standard\n",
    "    s = np.sqrt(sumatoria / (len(vector) - 1))\n",
    "    return s"
   ]
  },
  {
   "cell_type": "markdown",
   "metadata": {},
   "source": [
    "**Luego** definimos la funcion principal, <br>\n",
    "toma una matriz como parametro y la devuelve con sus valores normalizados"
   ]
  },
  {
   "cell_type": "code",
   "execution_count": 7,
   "metadata": {},
   "outputs": [],
   "source": [
    "def normalizar(matriz):\n",
    "    # obtenemos la forma de la matriz\n",
    "    filas, columnas = matriz.shape\n",
    "    \n",
    "    # recorremos las columnas (los atributos de cada vino)\n",
    "    for i in range(columnas):\n",
    "        columna_actual = matriz[:,i]\n",
    "\n",
    "        # calculamos la media\n",
    "        media = sum(columna_actual) / filas\n",
    "        \n",
    "        # calculamos la desviacion standard del atributo actual\n",
    "        s = desviacion_standard(columna_actual, media)\n",
    "\n",
    "        # recorremos los valores del atributo y los vamos normalizando\n",
    "        for f in range(filas):\n",
    "            matriz[f,i] = (matriz[f,i] - media) / s\n",
    "\n",
    "    # devolvemos la matriz normalizada\n",
    "    return matriz"
   ]
  },
  {
   "cell_type": "code",
   "execution_count": 8,
   "metadata": {},
   "outputs": [],
   "source": [
    "X = normalizar(X)"
   ]
  },
  {
   "cell_type": "markdown",
   "metadata": {},
   "source": [
    "Me fijo como quedaron los valores para mi nueva matriz."
   ]
  },
  {
   "cell_type": "code",
   "execution_count": 9,
   "metadata": {},
   "outputs": [
    {
     "data": {
      "text/html": [
       "<div>\n",
       "<style scoped>\n",
       "    .dataframe tbody tr th:only-of-type {\n",
       "        vertical-align: middle;\n",
       "    }\n",
       "\n",
       "    .dataframe tbody tr th {\n",
       "        vertical-align: top;\n",
       "    }\n",
       "\n",
       "    .dataframe thead th {\n",
       "        text-align: right;\n",
       "    }\n",
       "</style>\n",
       "<table border=\"1\" class=\"dataframe\">\n",
       "  <thead>\n",
       "    <tr style=\"text-align: right;\">\n",
       "      <th></th>\n",
       "      <th>0</th>\n",
       "      <th>1</th>\n",
       "      <th>2</th>\n",
       "      <th>3</th>\n",
       "      <th>4</th>\n",
       "      <th>5</th>\n",
       "      <th>6</th>\n",
       "      <th>7</th>\n",
       "      <th>8</th>\n",
       "      <th>9</th>\n",
       "      <th>10</th>\n",
       "      <th>11</th>\n",
       "      <th>12</th>\n",
       "    </tr>\n",
       "  </thead>\n",
       "  <tbody>\n",
       "    <tr>\n",
       "      <th>count</th>\n",
       "      <td>1.780000e+02</td>\n",
       "      <td>1.780000e+02</td>\n",
       "      <td>1.780000e+02</td>\n",
       "      <td>1.780000e+02</td>\n",
       "      <td>1.780000e+02</td>\n",
       "      <td>178.000000</td>\n",
       "      <td>1.780000e+02</td>\n",
       "      <td>1.780000e+02</td>\n",
       "      <td>1.780000e+02</td>\n",
       "      <td>1.780000e+02</td>\n",
       "      <td>1.780000e+02</td>\n",
       "      <td>1.780000e+02</td>\n",
       "      <td>178.000000</td>\n",
       "    </tr>\n",
       "    <tr>\n",
       "      <th>mean</th>\n",
       "      <td>7.863872e-15</td>\n",
       "      <td>3.193450e-16</td>\n",
       "      <td>-4.065412e-15</td>\n",
       "      <td>-7.983626e-17</td>\n",
       "      <td>1.995907e-17</td>\n",
       "      <td>0.000000</td>\n",
       "      <td>9.580351e-16</td>\n",
       "      <td>-5.588538e-16</td>\n",
       "      <td>-1.676562e-15</td>\n",
       "      <td>-3.393041e-16</td>\n",
       "      <td>1.676562e-15</td>\n",
       "      <td>2.115661e-15</td>\n",
       "      <td>0.000000</td>\n",
       "    </tr>\n",
       "    <tr>\n",
       "      <th>std</th>\n",
       "      <td>1.000000e+00</td>\n",
       "      <td>1.000000e+00</td>\n",
       "      <td>1.000000e+00</td>\n",
       "      <td>1.000000e+00</td>\n",
       "      <td>1.000000e+00</td>\n",
       "      <td>1.000000</td>\n",
       "      <td>1.000000e+00</td>\n",
       "      <td>1.000000e+00</td>\n",
       "      <td>1.000000e+00</td>\n",
       "      <td>1.000000e+00</td>\n",
       "      <td>1.000000e+00</td>\n",
       "      <td>1.000000e+00</td>\n",
       "      <td>1.000000</td>\n",
       "    </tr>\n",
       "    <tr>\n",
       "      <th>min</th>\n",
       "      <td>-2.427388e+00</td>\n",
       "      <td>-1.428952e+00</td>\n",
       "      <td>-3.668813e+00</td>\n",
       "      <td>-2.663505e+00</td>\n",
       "      <td>-2.082381e+00</td>\n",
       "      <td>-2.101318</td>\n",
       "      <td>-1.691200e+00</td>\n",
       "      <td>-1.862979e+00</td>\n",
       "      <td>-2.063214e+00</td>\n",
       "      <td>-1.629691e+00</td>\n",
       "      <td>-2.088840e+00</td>\n",
       "      <td>-1.889723e+00</td>\n",
       "      <td>-1.488987</td>\n",
       "    </tr>\n",
       "    <tr>\n",
       "      <th>25%</th>\n",
       "      <td>-7.860275e-01</td>\n",
       "      <td>-6.568956e-01</td>\n",
       "      <td>-5.705131e-01</td>\n",
       "      <td>-6.871987e-01</td>\n",
       "      <td>-8.220960e-01</td>\n",
       "      <td>-0.882977</td>\n",
       "      <td>-8.252115e-01</td>\n",
       "      <td>-7.380592e-01</td>\n",
       "      <td>-5.956034e-01</td>\n",
       "      <td>-7.928659e-01</td>\n",
       "      <td>-7.654033e-01</td>\n",
       "      <td>-9.495697e-01</td>\n",
       "      <td>-0.782431</td>\n",
       "    </tr>\n",
       "    <tr>\n",
       "      <th>50%</th>\n",
       "      <td>6.082829e-02</td>\n",
       "      <td>-4.219218e-01</td>\n",
       "      <td>-2.375431e-02</td>\n",
       "      <td>1.514024e-03</td>\n",
       "      <td>-1.219377e-01</td>\n",
       "      <td>0.095690</td>\n",
       "      <td>1.058511e-01</td>\n",
       "      <td>-1.755994e-01</td>\n",
       "      <td>-6.272092e-02</td>\n",
       "      <td>-1.587767e-01</td>\n",
       "      <td>3.303369e-02</td>\n",
       "      <td>2.370660e-01</td>\n",
       "      <td>-0.233063</td>\n",
       "    </tr>\n",
       "    <tr>\n",
       "      <th>75%</th>\n",
       "      <td>8.337767e-01</td>\n",
       "      <td>6.679088e-01</td>\n",
       "      <td>6.961448e-01</td>\n",
       "      <td>6.003946e-01</td>\n",
       "      <td>5.082048e-01</td>\n",
       "      <td>0.806722</td>\n",
       "      <td>8.466967e-01</td>\n",
       "      <td>6.078267e-01</td>\n",
       "      <td>6.274055e-01</td>\n",
       "      <td>4.925666e-01</td>\n",
       "      <td>7.111583e-01</td>\n",
       "      <td>7.863692e-01</td>\n",
       "      <td>0.756117</td>\n",
       "    </tr>\n",
       "    <tr>\n",
       "      <th>max</th>\n",
       "      <td>2.253415e+00</td>\n",
       "      <td>3.100446e+00</td>\n",
       "      <td>3.147447e+00</td>\n",
       "      <td>3.145637e+00</td>\n",
       "      <td>4.359076e+00</td>\n",
       "      <td>2.532372</td>\n",
       "      <td>3.054216e+00</td>\n",
       "      <td>2.395645e+00</td>\n",
       "      <td>3.475269e+00</td>\n",
       "      <td>3.425768e+00</td>\n",
       "      <td>3.292407e+00</td>\n",
       "      <td>1.955399e+00</td>\n",
       "      <td>2.963114</td>\n",
       "    </tr>\n",
       "  </tbody>\n",
       "</table>\n",
       "</div>"
      ],
      "text/plain": [
       "                 0             1             2             3             4   \\\n",
       "count  1.780000e+02  1.780000e+02  1.780000e+02  1.780000e+02  1.780000e+02   \n",
       "mean   7.863872e-15  3.193450e-16 -4.065412e-15 -7.983626e-17  1.995907e-17   \n",
       "std    1.000000e+00  1.000000e+00  1.000000e+00  1.000000e+00  1.000000e+00   \n",
       "min   -2.427388e+00 -1.428952e+00 -3.668813e+00 -2.663505e+00 -2.082381e+00   \n",
       "25%   -7.860275e-01 -6.568956e-01 -5.705131e-01 -6.871987e-01 -8.220960e-01   \n",
       "50%    6.082829e-02 -4.219218e-01 -2.375431e-02  1.514024e-03 -1.219377e-01   \n",
       "75%    8.337767e-01  6.679088e-01  6.961448e-01  6.003946e-01  5.082048e-01   \n",
       "max    2.253415e+00  3.100446e+00  3.147447e+00  3.145637e+00  4.359076e+00   \n",
       "\n",
       "               5             6             7             8             9   \\\n",
       "count  178.000000  1.780000e+02  1.780000e+02  1.780000e+02  1.780000e+02   \n",
       "mean     0.000000  9.580351e-16 -5.588538e-16 -1.676562e-15 -3.393041e-16   \n",
       "std      1.000000  1.000000e+00  1.000000e+00  1.000000e+00  1.000000e+00   \n",
       "min     -2.101318 -1.691200e+00 -1.862979e+00 -2.063214e+00 -1.629691e+00   \n",
       "25%     -0.882977 -8.252115e-01 -7.380592e-01 -5.956034e-01 -7.928659e-01   \n",
       "50%      0.095690  1.058511e-01 -1.755994e-01 -6.272092e-02 -1.587767e-01   \n",
       "75%      0.806722  8.466967e-01  6.078267e-01  6.274055e-01  4.925666e-01   \n",
       "max      2.532372  3.054216e+00  2.395645e+00  3.475269e+00  3.425768e+00   \n",
       "\n",
       "                 10            11          12  \n",
       "count  1.780000e+02  1.780000e+02  178.000000  \n",
       "mean   1.676562e-15  2.115661e-15    0.000000  \n",
       "std    1.000000e+00  1.000000e+00    1.000000  \n",
       "min   -2.088840e+00 -1.889723e+00   -1.488987  \n",
       "25%   -7.654033e-01 -9.495697e-01   -0.782431  \n",
       "50%    3.303369e-02  2.370660e-01   -0.233063  \n",
       "75%    7.111583e-01  7.863692e-01    0.756117  \n",
       "max    3.292407e+00  1.955399e+00    2.963114  "
      ]
     },
     "execution_count": 9,
     "metadata": {},
     "output_type": "execute_result"
    }
   ],
   "source": [
    "prueba = pd.DataFrame(X)\n",
    "prueba.describe()"
   ]
  },
  {
   "cell_type": "markdown",
   "metadata": {},
   "source": [
    "<h3>Obtenemos la matriz de covarianza</h3>"
   ]
  },
  {
   "cell_type": "code",
   "execution_count": 10,
   "metadata": {},
   "outputs": [],
   "source": [
    "X = np.cov(X, rowvar=False)"
   ]
  },
  {
   "cell_type": "markdown",
   "metadata": {},
   "source": [
    "Ahora me queda $X$ siendo una matriz cuadrada de covarianza.<br><br>\n",
    "Lo siguiente seria entender el metodo PCA (Principal Component Analysis), <br>\n",
    "para que quede bien en claro porque me sirve sacar los autovectores de la matriz.<br><br>\n",
    "En <a href=\"https://es.wikipedia.org/wiki/An%C3%A1lisis_de_componentes_principales\">esta pagina</a> encontré informacion util. Sobre todo estos parrafos:<br>\n",
    "\n",
    "<blockquote>\n",
    "El ACP se emplea sobre todo en análisis exploratorio de datos y para construir modelos predictivos. El ACP comporta el cálculo de la descomposición en autovalores de la matriz de covarianza, normalmente tras centrar los datos en la media de cada atributo.\n",
    "</blockquote><br>\n",
    "<blockquote>\n",
    "En el análisis de datos, el primer componente principal de un conjunto de \n",
    "p variables, que se supone están distribuidas normalmente de forma conjunta, es la variable derivada formada como combinación lineal de las variables originales que explica la mayor parte de la varianza. El segundo componente principal explica la mayor varianza de lo que queda una vez eliminado el efecto del primer componente, y podemos proceder a través de p iteraciones hasta que se explique toda la varianza.\n",
    "</blockquote><br>\n",
    "<blockquote>\n",
    "Para cualquier objetivo, se puede demostrar que los componentes principales son vectores propios de la matriz de covarianza de los datos. Por lo tanto, los componentes principales se calculan a menudo por eigendecomposition de la matriz de covarianza de datos o descomposición en valores singulares de la matriz de datos. \n",
    "</blockquote>"
   ]
  }
 ],
 "metadata": {
  "kernelspec": {
   "display_name": "venv",
   "language": "python",
   "name": "python3"
  },
  "language_info": {
   "codemirror_mode": {
    "name": "ipython",
    "version": 3
   },
   "file_extension": ".py",
   "mimetype": "text/x-python",
   "name": "python",
   "nbconvert_exporter": "python",
   "pygments_lexer": "ipython3",
   "version": "3.11.0"
  }
 },
 "nbformat": 4,
 "nbformat_minor": 2
}
